{
 "cells": [
  {
   "cell_type": "code",
   "execution_count": 1,
   "metadata": {},
   "outputs": [
    {
     "name": "stdout",
     "output_type": "stream",
     "text": [
      "Looking in indexes: https://test.pypi.org/simple, https://pypi.org/simple\n",
      "Requirement already satisfied: shaystack in /home/pprados/workspace.bda/haystack-api (0.0.1.dev541)\n",
      "Requirement already satisfied: pyparsing in /opt/conda/envs/shift-4-haystack/lib/python3.7/site-packages (from shaystack) (2.4.7)\n",
      "Requirement already satisfied: pytz in /opt/conda/envs/shift-4-haystack/lib/python3.7/site-packages (from shaystack) (2021.1)\n",
      "Requirement already satisfied: iso8601 in /opt/conda/envs/shift-4-haystack/lib/python3.7/site-packages (from shaystack) (0.1.14)\n",
      "Requirement already satisfied: six in /opt/conda/envs/shift-4-haystack/lib/python3.7/site-packages (from shaystack) (1.15.0)\n",
      "Requirement already satisfied: accept_types in /opt/conda/envs/shift-4-haystack/lib/python3.7/site-packages (from shaystack) (0.4.1)\n",
      "Requirement already satisfied: overrides in /opt/conda/envs/shift-4-haystack/lib/python3.7/site-packages (from shaystack) (3.1.0)\n",
      "Requirement already satisfied: tzlocal in /opt/conda/envs/shift-4-haystack/lib/python3.7/site-packages (from shaystack) (2.1)\n",
      "Requirement already satisfied: pint in /opt/conda/envs/shift-4-haystack/lib/python3.7/site-packages (from shaystack) (0.16.1)\n",
      "Requirement already satisfied: click in /opt/conda/envs/shift-4-haystack/lib/python3.7/site-packages (from shaystack) (7.1.2)\n",
      "Requirement already satisfied: click_pathlib in /opt/conda/envs/shift-4-haystack/lib/python3.7/site-packages (from shaystack) (2020.3.13.0)\n",
      "Requirement already satisfied: importlib-metadata in /opt/conda/envs/shift-4-haystack/lib/python3.7/site-packages (from pint->shaystack) (3.4.0)\n",
      "Requirement already satisfied: packaging in /opt/conda/envs/shift-4-haystack/lib/python3.7/site-packages (from pint->shaystack) (20.9)\n",
      "Requirement already satisfied: zipp>=0.5 in /opt/conda/envs/shift-4-haystack/lib/python3.7/site-packages (from importlib-metadata->pint->shaystack) (3.4.0)\n",
      "Requirement already satisfied: typing-extensions>=3.6.4 in /opt/conda/envs/shift-4-haystack/lib/python3.7/site-packages (from importlib-metadata->pint->shaystack) (3.7.4.3)\n"
     ]
    }
   ],
   "source": [
    "import sys\n",
    "!PIP_INDEX_URL=https://test.pypi.org/simple \\\n",
    " PIP_EXTRA_INDEX_URL=https://pypi.org/simple \\\n",
    " {sys.executable} -m pip install shaystack"
   ]
  },
  {
   "cell_type": "code",
   "execution_count": 2,
   "metadata": {
    "lines_to_next_cell": 0
   },
   "outputs": [],
   "source": [
    "import shaystack\n",
    "import datetime"
   ]
  },
  {
   "cell_type": "code",
   "execution_count": 4,
   "metadata": {},
   "outputs": [],
   "source": [
    "# Create a grid with metadata and columns\n",
    "g = shaystack.Grid()\n",
    "g.metadata['aMarker'] = shaystack.MARKER\n",
    "g.metadata['today'] = datetime.date.today()\n",
    "g.column['firstColumn'] = {'metaData':'in no particular order', 'abc': 123}\n",
    "g.column['secondColumn'] = {}"
   ]
  },
  {
   "cell_type": "code",
   "execution_count": 5,
   "metadata": {},
   "outputs": [],
   "source": [
    "# The same with constructor\n",
    "g = shaystack.Grid(metadata=\n",
    "                     {\n",
    "                         \"aMarker\":shaystack.MARKER,\n",
    "                         \"today\":datetime.date.today()\n",
    "                     },\n",
    "                    columns=\n",
    "                     {\n",
    "                         \"firstColumn\":{'metaData':'in no particular order', 'abc': 123},\n",
    "                         \"secondColumn\": {}\n",
    "                     }\n",
    "                    )"
   ]
  },
  {
   "cell_type": "code",
   "execution_count": 6,
   "metadata": {},
   "outputs": [
    {
     "data": {
      "text/plain": [
       "Grid\n",
       "\tVersion: 3.0\n",
       "\tMetadata: MetadataObject{'aMarker'=MARKER, 'today'=datetime.date(2021, 2, 22)}\n",
       "\tColumns:\n",
       "\t\tfirstColumn: MetadataObject{'metaData'='in no particular order', 'abc'=123}\n",
       "\t\tsecondColumn\n",
       "\tRow    0:\n",
       "\tfirstColumn=<Quantity(154, 'kilogram')>\n",
       "\tsecondColumn='and counting'\n",
       "\tRow    1:\n",
       "\tfirstColumn=MARKER\n",
       "\tsecondColumn='supported on Python 3.7+'\n",
       "\tRow    2:\n",
       "\tfirstColumn=Coordinate(-27.4725, 153.003)\n",
       "\tsecondColumn='Made in Australia from local and imported ingredients'"
      ]
     },
     "execution_count": 6,
     "metadata": {},
     "output_type": "execute_result"
    }
   ],
   "source": [
    "# Add some entities\n",
    "g.extend([\n",
    "    {'firstColumn': shaystack.Quantity(154, 'kg'), 'secondColumn': 'and counting'},\n",
    "    {'firstColumn': shaystack.MARKER, 'secondColumn': 'supported on Python 3.7+'},\n",
    "    {'firstColumn': shaystack.Coordinate(-27.4725,153.003),\n",
    "     'secondColumn': 'Made in Australia from local and imported ingredients'},\n",
    "])"
   ]
  },
  {
   "cell_type": "code",
   "execution_count": 7,
   "metadata": {},
   "outputs": [
    {
     "name": "stdout",
     "output_type": "stream",
     "text": [
      "ver:\"3.0\" aMarker today:2021-02-22\n",
      "firstColumn metaData:\"in no particular order\" abc:123,secondColumn\n",
      "154kg,\"and counting\"\n",
      "M,\"supported on Python 3.7+\"\n",
      "C(-27.472500,153.003000),\"Made in Australia from local and imported ingredients\"\n",
      "\n"
     ]
    }
   ],
   "source": [
    "# Dump to zinc format\n",
    "print(shaystack.dump(g))"
   ]
  },
  {
   "cell_type": "code",
   "execution_count": 8,
   "metadata": {},
   "outputs": [
    {
     "name": "stdout",
     "output_type": "stream",
     "text": [
      "{\"meta\": {\"aMarker\": \"m:\", \"today\": \"d:2021-02-22\", \"ver\": \"3.0\"}, \"cols\": [{\"metaData\": \"s:in no particular order\", \"abc\": \"n:123.000000\", \"name\": \"firstColumn\"}, {\"name\": \"secondColumn\"}], \"rows\": [{\"firstColumn\": \"n:154.000000 kg\", \"secondColumn\": \"s:and counting\"}, {\"firstColumn\": \"m:\", \"secondColumn\": \"s:supported on Python 3.7+\"}, {\"firstColumn\": \"c:-27.472500,153.003000\", \"secondColumn\": \"s:Made in Australia from local and imported ingredients\"}]}\n"
     ]
    }
   ],
   "source": [
    "# to JSON\n",
    "print(shaystack.dump(g,mode=shaystack.MODE_JSON))"
   ]
  },
  {
   "cell_type": "code",
   "execution_count": 9,
   "metadata": {},
   "outputs": [],
   "source": [
    "# Load haystack file\n",
    "import io\n",
    "with open(\"sample/carytown.zinc\") as f:\n",
    "    g = shaystack.parse(f.read(),shaystack.MODE_ZINC)"
   ]
  },
  {
   "cell_type": "code",
   "execution_count": 10,
   "metadata": {},
   "outputs": [
    {
     "data": {
      "text/plain": [
       "{'storeNum': 1.0,\n",
       " 'geoPostalCode': '23221',\n",
       " 'occupiedEnd': datetime.time(20, 0),\n",
       " 'yearBuilt': 1996.0,\n",
       " 'area': 3149.0 <Unit('foot ** 2')>,\n",
       " 'weatherRef': Ref('p:demo:r:23a44701-1af1bca9', 'Richmond, VA'),\n",
       " 'site': MARKER,\n",
       " 'occupiedStart': datetime.time(10, 0),\n",
       " 'geoStreet': '3504 W Cary St',\n",
       " 'store': MARKER,\n",
       " 'id': Ref('p:demo:r:23a44701-a89a6c66', 'Carytown'),\n",
       " 'geoState': 'VA',\n",
       " 'geoCity': 'Richmond',\n",
       " 'dis': 'Carytown',\n",
       " 'geoCountry': 'US',\n",
       " 'geoCoord': Coordinate(37.555385, -77.486903),\n",
       " 'metro': 'Richmond',\n",
       " 'regionRef': Ref('p:demo:r:23a44701-67faf4db', 'Richmond'),\n",
       " 'tz': 'New_York',\n",
       " 'geoAddr': '3504 W Cary St, Richmond, VA',\n",
       " 'primaryFunction': 'Retail Store',\n",
       " 'phone': '804.552.2222'}"
      ]
     },
     "execution_count": 10,
     "metadata": {},
     "output_type": "execute_result"
    }
   ],
   "source": [
    "# Filter some entity\n",
    "site = g.filter(\"site\")[0]\n",
    "site"
   ]
  },
  {
   "cell_type": "code",
   "execution_count": 11,
   "metadata": {},
   "outputs": [
    {
     "name": "stdout",
     "output_type": "stream",
     "text": [
      "Grid\n",
      "\tVersion: 3.0\n",
      "\tMetadata: MetadataObject{'hisStart'=datetime.datetime(2020, 6, 1, 0, 0, tzinfo=<StaticTzInfo 'Etc/UTC'>), 'hisEnd'=datetime.datetime(2021, 5, 1, 0, 0, tzinfo=<StaticTzInfo 'Etc/UTC'>)}\n",
      "\tColumns:\n",
      "\t\tts\n",
      "\t\tval\n",
      "\tRow    0:\n",
      "\tts=datetime.datetime(2020, 7, 1, 0, 0, tzinfo=<StaticTzInfo 'Etc/UTC'>)\n",
      "\tval=15.0\n",
      "\tRow    1:\n",
      "\tts=datetime.datetime(2020, 8, 1, 0, 0, tzinfo=<StaticTzInfo 'Etc/UTC'>)\n",
      "\tval=15.0\n",
      "\tRow    2:\n",
      "\tts=datetime.datetime(2020, 9, 1, 0, 0, tzinfo=<StaticTzInfo 'Etc/UTC'>)\n",
      "\tval=15.0\n",
      "\tRow    3:\n",
      "\tts=datetime.datetime(2020, 10, 1, 0, 0, tzinfo=<StaticTzInfo 'Etc/UTC'>)\n",
      "\tval=20.0\n",
      "\tRow    4:\n",
      "\tts=datetime.datetime(2020, 11, 1, 0, 0, tzinfo=<StaticTzInfo 'Etc/UTC'>)\n",
      "\tval=20.0\n",
      "\tRow    5:\n",
      "\tts=datetime.datetime(2020, 12, 1, 0, 0, tzinfo=<StaticTzInfo 'Etc/UTC'>)\n",
      "\tval=21.0\n",
      "\n"
     ]
    }
   ],
   "source": [
    "# Read time-series\n",
    "with_his = g.filter(\"his\")[0]\n",
    "ts_uri = \"sample/\" + with_his[\"hisURI\"]\n",
    "with open(ts_uri) as f:\n",
    "    ts = shaystack.parse(f.read(),shaystack.MODE_ZINC)\n",
    "    print(ts)  # Print associated time-series"
   ]
  },
  {
   "cell_type": "code",
   "execution_count": 12,
   "metadata": {},
   "outputs": [],
   "source": [
    "# Save grid\n",
    "with open(\"ontology.csv\",\"w\") as f:\n",
    "    f.write(shaystack.dump(g,shaystack.MODE_CSV))\n",
    "with open(\"ontology.json\",\"w\") as f:\n",
    "    f.write(shaystack.dump(g,shaystack.MODE_JSON))"
   ]
  }
 ],
 "metadata": {
  "jupytext": {
   "cell_metadata_filter": "-all",
   "main_language": "python",
   "notebook_metadata_filter": "-all"
  },
  "kernelspec": {
   "display_name": "Python 3",
   "language": "python",
   "name": "python3"
  },
  "language_info": {
   "codemirror_mode": {
    "name": "ipython",
    "version": 3
   },
   "file_extension": ".py",
   "mimetype": "text/x-python",
   "name": "python",
   "nbconvert_exporter": "python",
   "pygments_lexer": "ipython3",
   "version": "3.7.10"
  }
 },
 "nbformat": 4,
 "nbformat_minor": 2
}
