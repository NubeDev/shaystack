{
 "cells": [
  {
   "cell_type": "code",
   "execution_count": 2,
   "metadata": {},
   "outputs": [
    {
     "name": "stdout",
     "output_type": "stream",
     "text": [
      "Looking in indexes: https://test.pypi.org/simple, https://pypi.org/simple\n",
      "Requirement already satisfied: shaystack in ./venv/lib/python3.8/site-packages (0.8.8rc0)\n",
      "Requirement already satisfied: six in ./venv/lib/python3.8/site-packages (from shaystack) (1.14.0)\n",
      "Requirement already satisfied: pytz in ./venv/lib/python3.8/site-packages (from shaystack) (2021.1)\n",
      "Requirement already satisfied: pint in ./venv/lib/python3.8/site-packages (from shaystack) (0.16.1)\n",
      "Requirement already satisfied: accept-types in ./venv/lib/python3.8/site-packages (from shaystack) (0.4.1)\n",
      "Requirement already satisfied: pyparsing in ./venv/lib/python3.8/site-packages (from shaystack) (2.4.6)\n",
      "Requirement already satisfied: iso8601 in ./venv/lib/python3.8/site-packages (from shaystack) (0.1.14)\n",
      "Requirement already satisfied: overrides in ./venv/lib/python3.8/site-packages (from shaystack) (3.1.0)\n",
      "Requirement already satisfied: click in ./venv/lib/python3.8/site-packages (from shaystack) (7.1.2)\n",
      "Requirement already satisfied: tzlocal in ./venv/lib/python3.8/site-packages (from shaystack) (2.1)\n",
      "Requirement already satisfied: click-pathlib in ./venv/lib/python3.8/site-packages (from shaystack) (2020.3.13.0)\n",
      "Requirement already satisfied: packaging in ./venv/lib/python3.8/site-packages (from pint->shaystack) (20.3)\n"
     ]
    }
   ],
   "source": [
    "import sys\n",
    "!PIP_INDEX_URL=https://test.pypi.org/simple \\\n",
    " PIP_EXTRA_INDEX_URL=https://pypi.org/simple \\\n",
    " {sys.executable} -m pip install shaystack"
   ]
  },
  {
   "cell_type": "code",
   "execution_count": 3,
   "metadata": {
    "lines_to_next_cell": 0
   },
   "outputs": [],
   "source": [
    "import shaystack\n",
    "import datetime"
   ]
  },
  {
   "cell_type": "code",
   "execution_count": 4,
   "metadata": {},
   "outputs": [],
   "source": [
    "# Create a grid with metadata and columns\n",
    "g = shaystack.Grid()\n",
    "g.metadata['aMarker'] = shaystack.MARKER\n",
    "g.metadata['today'] = datetime.date.today()\n",
    "g.column['firstColumn'] = {'metaData':'in no particular order', 'abc': 123}\n",
    "g.column['secondColumn'] = {}"
   ]
  },
  {
   "cell_type": "code",
   "execution_count": 5,
   "metadata": {},
   "outputs": [],
   "source": [
    "# The same with constructor\n",
    "g = shaystack.Grid(metadata=\n",
    "                     {\n",
    "                         \"aMarker\":shaystack.MARKER,\n",
    "                         \"today\":datetime.date.today()\n",
    "                     },\n",
    "                    columns=\n",
    "                     {\n",
    "                         \"firstColumn\":{'metaData':'in no particular order', 'abc': 123},\n",
    "                         \"secondColumn\": {}\n",
    "                     }\n",
    "                    )"
   ]
  },
  {
   "cell_type": "code",
   "execution_count": 6,
   "metadata": {},
   "outputs": [
    {
     "data": {
      "text/plain": [
       "Grid\n",
       "\tVersion: 3.0\n",
       "\tMetadata: MetadataObject{'aMarker'=MARKER, 'today'=datetime.date(2021, 3, 19)}\n",
       "\tColumns:\n",
       "\t\tfirstColumn: MetadataObject{'metaData'='in no particular order', 'abc'=123}\n",
       "\t\tsecondColumn\n",
       "\t---- Row    0:\n",
       "\tfirstColumn=<Quantity(154, 'kilogram')>\n",
       "\tsecondColumn='and counting'\n",
       "\t---- Row    1:\n",
       "\tfirstColumn=MARKER\n",
       "\tsecondColumn='supported on Python 3.7+'\n",
       "\t---- Row    2:\n",
       "\tfirstColumn=Coordinate(-27.4725, 153.003)\n",
       "\tsecondColumn='Made in Australia from local and imported ingredients'"
      ]
     },
     "execution_count": 6,
     "metadata": {},
     "output_type": "execute_result"
    }
   ],
   "source": [
    "# Add some entities\n",
    "g.extend([\n",
    "    {'firstColumn': shaystack.Quantity(154, 'kg'), 'secondColumn': 'and counting'},\n",
    "    {'firstColumn': shaystack.MARKER, 'secondColumn': 'supported on Python 3.7+'},\n",
    "    {'firstColumn': shaystack.Coordinate(-27.4725,153.003),\n",
    "     'secondColumn': 'Made in Australia from local and imported ingredients'},\n",
    "])"
   ]
  },
  {
   "cell_type": "code",
   "execution_count": 7,
   "metadata": {},
   "outputs": [
    {
     "name": "stdout",
     "output_type": "stream",
     "text": [
      "ver:\"3.0\" aMarker today:2021-03-19\n",
      "firstColumn metaData:\"in no particular order\" abc:123,secondColumn\n",
      "154kg,\"and counting\"\n",
      "M,\"supported on Python 3.7+\"\n",
      "C(-27.472500,153.003000),\"Made in Australia from local and imported ingredients\"\n",
      "\n"
     ]
    }
   ],
   "source": [
    "# Dump to zinc format\n",
    "print(shaystack.dump(g))"
   ]
  },
  {
   "cell_type": "code",
   "execution_count": 8,
   "metadata": {},
   "outputs": [
    {
     "name": "stdout",
     "output_type": "stream",
     "text": [
      "{\"meta\": {\"aMarker\": \"m:\", \"today\": \"d:2021-03-19\", \"ver\": \"3.0\"}, \"cols\": [{\"metaData\": \"s:in no particular order\", \"abc\": \"n:123.000000\", \"name\": \"firstColumn\"}, {\"name\": \"secondColumn\"}], \"rows\": [{\"firstColumn\": \"n:154.000000 kg\", \"secondColumn\": \"s:and counting\"}, {\"firstColumn\": \"m:\", \"secondColumn\": \"s:supported on Python 3.7+\"}, {\"firstColumn\": \"c:-27.472500,153.003000\", \"secondColumn\": \"s:Made in Australia from local and imported ingredients\"}]}\n"
     ]
    }
   ],
   "source": [
    "# to JSON\n",
    "print(shaystack.dump(g,mode=shaystack.MODE_JSON))"
   ]
  },
  {
   "cell_type": "code",
   "execution_count": 11,
   "metadata": {},
   "outputs": [],
   "source": [
    "# Load haystack file\n",
    "import io\n",
    "with open(\"sample/carytown.zinc\") as f:\n",
    "    g = shaystack.parse(f.read(),shaystack.MODE_ZINC)"
   ]
  },
  {
   "cell_type": "code",
   "execution_count": 12,
   "metadata": {},
   "outputs": [
    {
     "data": {
      "text/plain": [
       "{'dis': 'Carytown',\n",
       " 'id': Ref('p:demo:r:23a44701-a89a6c66', 'Carytown'),\n",
       " 'geoStreet': '3504 W Cary St',\n",
       " 'geoState': 'VA',\n",
       " 'metro': 'Richmond',\n",
       " 'regionRef': Ref('p:demo:r:23a44701-67faf4db', 'Richmond'),\n",
       " 'primaryFunction': 'Retail Store',\n",
       " 'geoCountry': 'US',\n",
       " 'geoPostalCode': 23221.0,\n",
       " 'tz': 'New_York',\n",
       " 'weatherRef': Ref('p:demo:r:23a44701-1af1bca9', 'Richmond, VA'),\n",
       " 'occupiedStart': datetime.time(10, 0),\n",
       " 'yearBuilt': 1996.0,\n",
       " 'occupiedEnd': datetime.time(20, 0),\n",
       " 'phone': '804.552.2222',\n",
       " 'site': MARKER,\n",
       " 'geoCoord': Coordinate(37.555385, -77.486903),\n",
       " 'store': MARKER,\n",
       " 'area': 3149.0 <Unit('foot ** 2')>,\n",
       " 'storeNum': 1.0,\n",
       " 'geoAddr': '3504 W Cary St, Richmond, VA',\n",
       " 'geoCity': 'Richmond'}"
      ]
     },
     "execution_count": 12,
     "metadata": {},
     "output_type": "execute_result"
    }
   ],
   "source": [
    "# Filter some entity\n",
    "site = g.filter(\"site\")[0]\n",
    "site"
   ]
  },
  {
   "cell_type": "code",
   "execution_count": 13,
   "metadata": {},
   "outputs": [
    {
     "name": "stdout",
     "output_type": "stream",
     "text": [
      "Grid\n",
      "\tVersion: 3.0\n",
      "\tMetadata: MetadataObject{'hisStart'=datetime.datetime(2020, 6, 1, 0, 0, tzinfo=<StaticTzInfo 'Etc/UTC'>), 'hisEnd'=datetime.datetime(2021, 5, 1, 0, 0, tzinfo=<StaticTzInfo 'Etc/UTC'>)}\n",
      "\tColumns:\n",
      "\t\tts\n",
      "\t\tval\n",
      "\t---- Row    0:\n",
      "\tts=datetime.datetime(2020, 7, 1, 0, 0, tzinfo=<StaticTzInfo 'Etc/UTC'>)\n",
      "\tval=13.0\n",
      "\t---- Row    1:\n",
      "\tts=datetime.datetime(2020, 8, 1, 0, 0, tzinfo=<StaticTzInfo 'Etc/UTC'>)\n",
      "\tval=8.0\n",
      "\t---- Row    2:\n",
      "\tts=datetime.datetime(2020, 9, 1, 0, 0, tzinfo=<StaticTzInfo 'Etc/UTC'>)\n",
      "\tval=7.0\n",
      "\t---- Row    3:\n",
      "\tts=datetime.datetime(2020, 10, 1, 0, 0, tzinfo=<StaticTzInfo 'Etc/UTC'>)\n",
      "\tval=10.0\n",
      "\t---- Row    4:\n",
      "\tts=datetime.datetime(2020, 11, 1, 0, 0, tzinfo=<StaticTzInfo 'Etc/UTC'>)\n",
      "\tval=12.0\n",
      "\t---- Row    5:\n",
      "\tts=datetime.datetime(2020, 12, 1, 0, 0, tzinfo=<StaticTzInfo 'Etc/UTC'>)\n",
      "\tval=13.0\n",
      "\n"
     ]
    }
   ],
   "source": [
    "# Read time-series\n",
    "with_his = g.filter(\"his\")[0]\n",
    "ts_uri = \"sample/\" + with_his[\"hisURI\"]\n",
    "with open(ts_uri) as f:\n",
    "    ts = shaystack.parse(f.read(),shaystack.MODE_ZINC)\n",
    "    print(ts)  # Print associated time-series"
   ]
  },
  {
   "cell_type": "code",
   "execution_count": 14,
   "metadata": {},
   "outputs": [],
   "source": [
    "# Save grid\n",
    "with open(\"ontology.csv\",\"w\") as f:\n",
    "    f.write(shaystack.dump(g,shaystack.MODE_CSV))\n",
    "with open(\"ontology.json\",\"w\") as f:\n",
    "    f.write(shaystack.dump(g,shaystack.MODE_JSON))"
   ]
  },
  {
   "cell_type": "code",
   "execution_count": null,
   "metadata": {},
   "outputs": [],
   "source": []
  }
 ],
 "metadata": {
  "jupytext": {
   "cell_metadata_filter": "-all",
   "main_language": "python",
   "notebook_metadata_filter": "-all"
  },
  "kernelspec": {
   "display_name": "Python 3",
   "language": "python",
   "name": "python3"
  },
  "language_info": {
   "codemirror_mode": {
    "name": "ipython",
    "version": 3
   },
   "file_extension": ".py",
   "mimetype": "text/x-python",
   "name": "python",
   "nbconvert_exporter": "python",
   "pygments_lexer": "ipython3",
   "version": "3.8.5"
  }
 },
 "nbformat": 4,
 "nbformat_minor": 2
}
